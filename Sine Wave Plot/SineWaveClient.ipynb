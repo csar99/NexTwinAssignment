{
 "cells": [
  {
   "cell_type": "code",
   "execution_count": 9,
   "id": "5baf31fc",
   "metadata": {},
   "outputs": [],
   "source": [
    "import socket\n",
    "import threading, wave, pyaudio, time, queue"
   ]
  },
  {
   "cell_type": "code",
   "execution_count": 10,
   "id": "5e6b9551",
   "metadata": {},
   "outputs": [
    {
     "name": "stdout",
     "output_type": "stream",
     "text": [
      "192.168.1.102\n"
     ]
    }
   ],
   "source": [
    "host_name = socket.gethostname()\n",
    "host_ip = '192.168.1.102'#  socket.gethostbyname(host_name)\n",
    "print(host_ip)\n",
    "port = 9633\n",
    "q = queue.Queue(maxsize=2000)"
   ]
  },
  {
   "cell_type": "code",
   "execution_count": 11,
   "id": "f08f2abb",
   "metadata": {},
   "outputs": [],
   "source": [
    "def audio_stream_UDP():\n",
    "\tBUFF_SIZE = 65536\n",
    "\tclient_socket = socket.socket(socket.AF_INET,socket.SOCK_DGRAM)\n",
    "\tclient_socket.setsockopt(socket.SOL_SOCKET,socket.SO_RCVBUF,BUFF_SIZE)\n",
    "\tp = pyaudio.PyAudio()\n",
    "\tCHUNK = 10*1024\n",
    "\tstream = p.open(format=p.get_format_from_width(2),\n",
    "\t\t\t\t\tchannels=2,\n",
    "\t\t\t\t\trate=44100,\n",
    "\t\t\t\t\toutput=True,\n",
    "\t\t\t\t\tframes_per_buffer=CHUNK)\n",
    "\t\t\t\t\t\n",
    "\t# create socket\n",
    "\tmessage = b'Hello'\n",
    "\tclient_socket.sendto(message,(host_ip,port))\n",
    "\tsocket_address = (host_ip,port)\n",
    "\t\n",
    "\tdef getAudioData():\n",
    "\t\twhile True:\n",
    "\t\t\tframe,_= client_socket.recvfrom(BUFF_SIZE)\n",
    "\t\t\tq.put(frame)\n",
    "\t\t\tprint('Queue size...',q.qsize())\n",
    "\tt1 = threading.Thread(target=getAudioData, args=())\n",
    "\tt1.start()\n",
    "\ttime.sleep(5)\n",
    "\tprint('Now Playing...')\n",
    "\twhile True:\n",
    "\t\tframe = q.get()\n",
    "\t\tstream.write(frame)\n",
    "\n",
    "\tclient_socket.close()\n",
    "\tprint('Audio closed')\n",
    "\tos._exit(1)"
   ]
  },
  {
   "cell_type": "code",
   "execution_count": 12,
   "id": "857a907a",
   "metadata": {},
   "outputs": [
    {
     "name": "stdout",
     "output_type": "stream",
     "text": [
      "Now Playing...\n"
     ]
    }
   ],
   "source": [
    "t1 = threading.Thread(target=audio_stream_UDP, args=())\n",
    "t1.start()\n"
   ]
  },
  {
   "cell_type": "code",
   "execution_count": null,
   "id": "14caf8d5",
   "metadata": {},
   "outputs": [],
   "source": []
  }
 ],
 "metadata": {
  "kernelspec": {
   "display_name": "Python 3 (ipykernel)",
   "language": "python",
   "name": "python3"
  },
  "language_info": {
   "codemirror_mode": {
    "name": "ipython",
    "version": 3
   },
   "file_extension": ".py",
   "mimetype": "text/x-python",
   "name": "python",
   "nbconvert_exporter": "python",
   "pygments_lexer": "ipython3",
   "version": "3.9.16"
  }
 },
 "nbformat": 4,
 "nbformat_minor": 5
}
